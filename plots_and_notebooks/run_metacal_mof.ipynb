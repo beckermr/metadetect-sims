{
 "cells": [
  {
   "cell_type": "code",
   "execution_count": null,
   "metadata": {},
   "outputs": [],
   "source": [
    "import numpy as np\n",
    "import matplotlib.pyplot as plt\n",
    "import seaborn as sns\n",
    "\n",
    "%matplotlib notebook\n",
    "sns.set()"
   ]
  },
  {
   "cell_type": "code",
   "execution_count": null,
   "metadata": {},
   "outputs": [],
   "source": [
    "import galsim\n",
    "\n",
    "from mdetsims import Sim\n",
    "from metadetect.detect import MEDSifier\n",
    "from mdetsims.defaults import TEST_METACAL_MOF_CONFIG\n",
    "from mdetsims.metacal import get_fofs, MOFFitter, MetacalFitter\n",
    "from mdetsims.metacal.util import get_masked_frac"
   ]
  },
  {
   "cell_type": "code",
   "execution_count": null,
   "metadata": {},
   "outputs": [],
   "source": [
    "des_sim = Sim(\n",
    "    rng=np.random.RandomState(seed=100),\n",
    "    g1=0.02,\n",
    "    gal_type='wldeblend',\n",
    "    scale=0.263,\n",
    "    psf_type='gauss',\n",
    "    n_coadd=30,\n",
    "    n_coadd_psf=1,\n",
    "    gal_kws={'survey_name': 'DES'})"
   ]
  },
  {
   "cell_type": "code",
   "execution_count": null,
   "metadata": {},
   "outputs": [],
   "source": [
    "mbobs = des_sim.get_mbobs()"
   ]
  },
  {
   "cell_type": "code",
   "execution_count": null,
   "metadata": {},
   "outputs": [],
   "source": [
    "mfier = MEDSifier(\n",
    "    mbobs=mbobs,\n",
    "    sx_config=TEST_METACAL_MOF_CONFIG['sx'],\n",
    "    meds_config=TEST_METACAL_MOF_CONFIG['meds'])"
   ]
  },
  {
   "cell_type": "code",
   "execution_count": null,
   "metadata": {},
   "outputs": [],
   "source": [
    "mbmeds = mfier.get_multiband_meds()"
   ]
  },
  {
   "cell_type": "markdown",
   "metadata": {},
   "source": [
    "## Try the FoFs"
   ]
  },
  {
   "cell_type": "code",
   "execution_count": null,
   "metadata": {},
   "outputs": [],
   "source": [
    "res = get_fofs(mfier.cat, TEST_METACAL_MOF_CONFIG['fofs'])"
   ]
  },
  {
   "cell_type": "code",
   "execution_count": null,
   "metadata": {},
   "outputs": [],
   "source": [
    "n_fofs = np.max(res[1]['fofid'])"
   ]
  },
  {
   "cell_type": "code",
   "execution_count": null,
   "metadata": {},
   "outputs": [],
   "source": [
    "for fofid in range(n_fofs):\n",
    "    msk = res[1]['fofid'] == fofid\n",
    "    if np.sum(msk) > 2:\n",
    "        inds = res[1]['number'][msk] - 1\n",
    "        list_of_mbobs = []\n",
    "        for ind in inds:\n",
    "            o = mbmeds.get_mbobs(ind)\n",
    "            o[0].meta['Tsky'] = 1\n",
    "            o.meta['masked_frac'] = get_masked_frac(o)\n",
    "            o[0].meta['magzp_ref'] = 26.5\n",
    "            o.meta['id'] = ind + 1\n",
    "            o.meta['fofid'] = fofid\n",
    "            list_of_mbobs.append(o)"
   ]
  },
  {
   "cell_type": "code",
   "execution_count": null,
   "metadata": {},
   "outputs": [],
   "source": [
    "list_of_mbobs"
   ]
  },
  {
   "cell_type": "code",
   "execution_count": null,
   "metadata": {},
   "outputs": [],
   "source": [
    "fig = plt.figure(figsize=(8, 8))\n",
    "\n",
    "ax = fig.add_subplot(2, 2, 1)\n",
    "sns.heatmap(np.arcsinh(list_of_mbobs[0][0][0].image), square=True, ax=ax)\n",
    "\n",
    "ax = fig.add_subplot(2, 2, 2)\n",
    "sns.heatmap(np.arcsinh(list_of_mbobs[1][0][0].image), square=True, ax=ax)\n",
    "\n",
    "ax = fig.add_subplot(2, 2, 3)\n",
    "sns.heatmap(np.arcsinh(list_of_mbobs[2][0][0].image), square=True, ax=ax)\n",
    "\n",
    "ax = fig.add_subplot(2, 2, 4)\n",
    "sns.heatmap(np.arcsinh(list_of_mbobs[3][0][0].image), square=True, ax=ax)"
   ]
  },
  {
   "cell_type": "markdown",
   "metadata": {},
   "source": [
    "## Try MOF"
   ]
  },
  {
   "cell_type": "code",
   "execution_count": null,
   "metadata": {},
   "outputs": [],
   "source": [
    "fitter = MOFFitter(TEST_METACAL_MOF_CONFIG, 1, np.random.RandomState(seed=10))"
   ]
  },
  {
   "cell_type": "code",
   "execution_count": null,
   "metadata": {},
   "outputs": [],
   "source": [
    "od, ed = fitter.go(list_of_mbobs)"
   ]
  },
  {
   "cell_type": "code",
   "execution_count": null,
   "metadata": {},
   "outputs": [],
   "source": [
    "mof_fitter = fitter.get_mof_fitter()"
   ]
  },
  {
   "cell_type": "code",
   "execution_count": null,
   "metadata": {},
   "outputs": [],
   "source": [
    "rs = mof_fitter.make_corrected_obs()"
   ]
  },
  {
   "cell_type": "code",
   "execution_count": null,
   "metadata": {},
   "outputs": [],
   "source": [
    "fig = plt.figure(figsize=(8, 8))\n",
    "\n",
    "ax = fig.add_subplot(2, 2, 1)\n",
    "sns.heatmap(np.arcsinh(rs[0][0][0].image), square=True, ax=ax)\n",
    "\n",
    "ax = fig.add_subplot(2, 2, 2)\n",
    "sns.heatmap(np.arcsinh(rs[1][0][0].image), square=True, ax=ax)\n",
    "\n",
    "ax = fig.add_subplot(2, 2, 3)\n",
    "sns.heatmap(np.arcsinh(rs[2][0][0].image), square=True, ax=ax)\n",
    "\n",
    "ax = fig.add_subplot(2, 2, 4)\n",
    "sns.heatmap(np.arcsinh(rs[3][0][0].image), square=True, ax=ax)"
   ]
  },
  {
   "cell_type": "markdown",
   "metadata": {},
   "source": [
    "## Try Metacal + MOF"
   ]
  },
  {
   "cell_type": "code",
   "execution_count": null,
   "metadata": {},
   "outputs": [],
   "source": [
    "rng = np.random.RandomState(seed=10)\n",
    "nband = 1\n",
    "mcal = MetacalFitter(\n",
    "    TEST_METACAL_MOF_CONFIG, nband, rng, \n",
    "    mof_fitter=MOFFitter(TEST_METACAL_MOF_CONFIG, nband, rng))"
   ]
  },
  {
   "cell_type": "code",
   "execution_count": null,
   "metadata": {
    "scrolled": false
   },
   "outputs": [],
   "source": [
    "mcal.go(list_of_mbobs)"
   ]
  },
  {
   "cell_type": "code",
   "execution_count": null,
   "metadata": {},
   "outputs": [],
   "source": [
    "res = mcal.result"
   ]
  },
  {
   "cell_type": "code",
   "execution_count": null,
   "metadata": {},
   "outputs": [],
   "source": [
    "res['flags']"
   ]
  },
  {
   "cell_type": "code",
   "execution_count": null,
   "metadata": {},
   "outputs": [],
   "source": []
  }
 ],
 "metadata": {
  "kernelspec": {
   "display_name": "Python 3",
   "language": "python",
   "name": "python3"
  },
  "language_info": {
   "codemirror_mode": {
    "name": "ipython",
    "version": 3
   },
   "file_extension": ".py",
   "mimetype": "text/x-python",
   "name": "python",
   "nbconvert_exporter": "python",
   "pygments_lexer": "ipython3",
   "version": "3.6.7"
  }
 },
 "nbformat": 4,
 "nbformat_minor": 2
}
