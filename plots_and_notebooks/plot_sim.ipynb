{
 "cells": [
  {
   "cell_type": "code",
   "execution_count": 1,
   "metadata": {},
   "outputs": [],
   "source": [
    "import numpy as np\n",
    "import matplotlib.pyplot as plt\n",
    "import seaborn as sns\n",
    "\n",
    "%load_ext autoreload\n",
    "\n",
    "%autoreload 2\n",
    "\n",
    "%matplotlib notebook\n",
    "sns.set()"
   ]
  },
  {
   "cell_type": "code",
   "execution_count": null,
   "metadata": {},
   "outputs": [],
   "source": [
    "import galsim\n",
    "from mdetsims import Sim"
   ]
  },
  {
   "cell_type": "code",
   "execution_count": null,
   "metadata": {},
   "outputs": [],
   "source": [
    "%%time\n",
    "\n",
    "sim = Sim(\n",
    "    rng=np.random.RandomState(seed=3327),\n",
    "    g1=0.02,\n",
    "    gal_type='ground_galsim_parametric',\n",
    "    scale=0.263,\n",
    "    psf_type='ps',\n",
    "    n_coadd=30,\n",
    "    n_coadd_psf=1,\n",
    "    psf_kws={'trunc': 1})\n",
    "mbobs = sim.get_mbobs()"
   ]
  },
  {
   "cell_type": "code",
   "execution_count": null,
   "metadata": {},
   "outputs": [],
   "source": [
    "plt.figure(figsize=(10, 10))\n",
    "sns.heatmap(mbobs[0][0].image, square=True)"
   ]
  },
  {
   "cell_type": "code",
   "execution_count": null,
   "metadata": {},
   "outputs": [],
   "source": [
    "psf_obs1 = sim.get_psf_obs(x=0, y=30)\n",
    "psf_obs2 = sim.get_psf_obs(x=10, y=120)\n",
    "\n",
    "fig, axs = plt.subplots(nrows=1, ncols=2, figsize=(16, 8))\n",
    "\n",
    "sns.heatmap(psf_obs1.image, square=True, ax=axs[0])\n",
    "\n",
    "sns.heatmap((psf_obs2.image - psf_obs1.image) / np.max(psf_obs1.image), square=True, ax=axs[1])"
   ]
  },
  {
   "cell_type": "code",
   "execution_count": 19,
   "metadata": {
    "scrolled": false
   },
   "outputs": [
    {
     "data": {
      "image/png": "[encoded data removed]",
      "text/plain": [
       "<Figure size 720x720 with 9 Axes>"
      ]
     },
     "metadata": {
      "needs_background": "light"
     },
     "output_type": "display_data"
    }
   ],
   "source": [
    "from mdetsims.masking import generate_bad_columns, generate_cosmic_rays\n",
    "\n",
    "fig, axs = plt.subplots(nrows=3, ncols=3, sharex='all', sharey='all', figsize=(10, 10))\n",
    "\n",
    "for ax in axs.ravel():\n",
    "    msk = np.zeros((225, 225)).astype(bool)\n",
    "    msk |= generate_cosmic_rays(msk.shape)\n",
    "    msk |= generate_bad_columns(msk.shape)\n",
    "    ax.imshow(1-msk, vmin=0, vmax=1)\n",
    "    ax.grid(False)"
   ]
  },
  {
   "cell_type": "code",
   "execution_count": null,
   "metadata": {},
   "outputs": [],
   "source": []
  },
  {
   "cell_type": "code",
   "execution_count": null,
   "metadata": {},
   "outputs": [],
   "source": []
  },
  {
   "cell_type": "code",
   "execution_count": null,
   "metadata": {},
   "outputs": [],
   "source": []
  }
 ],
 "metadata": {
  "kernelspec": {
   "display_name": "Python 3",
   "language": "python",
   "name": "python3"
  },
  "language_info": {
   "codemirror_mode": {
    "name": "ipython",
    "version": 3
   },
   "file_extension": ".py",
   "mimetype": "text/x-python",
   "name": "python",
   "nbconvert_exporter": "python",
   "pygments_lexer": "ipython3",
   "version": "3.6.7"
  }
 },
 "nbformat": 4,
 "nbformat_minor": 2
}
