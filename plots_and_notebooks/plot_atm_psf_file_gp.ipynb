{
 "cells": [
  {
   "cell_type": "code",
   "execution_count": 1,
   "metadata": {},
   "outputs": [],
   "source": [
    "import numpy as np\n",
    "import matplotlib.pyplot as plt\n",
    "import seaborn as sns\n",
    "import fitsio\n",
    "\n",
    "%load_ext autoreload\n",
    "\n",
    "%autoreload 2\n",
    "\n",
    "%matplotlib notebook"
   ]
  },
  {
   "cell_type": "code",
   "execution_count": 2,
   "metadata": {},
   "outputs": [],
   "source": [
    "import galsim"
   ]
  },
  {
   "cell_type": "code",
   "execution_count": 3,
   "metadata": {},
   "outputs": [],
   "source": [
    "import tqdm\n",
    "\n",
    "def _get_fwhm_g1g2(psf_im):\n",
    "    mom = galsim.hsm.FindAdaptiveMom(psf_im)\n",
    "    return (\n",
    "        mom.moments_sigma * psf_im.scale * 2.355, \n",
    "        mom.observed_shape.g1, \n",
    "        mom.observed_shape.g2)\n",
    "\n",
    "\n",
    "def _measure_atm(ims, scale):\n",
    "    n = ims.shape[0]\n",
    "    fwhms = np.zeros((n, n))\n",
    "    g1 = np.zeros_like(fwhms)\n",
    "    g2 = np.zeros_like(fwhms)\n",
    "    for i in tqdm.trange(n):\n",
    "        for j in range(n):\n",
    "            psf_im = galsim.ImageD(ims[j, i], scale=scale)\n",
    "            res = _get_fwhm_g1g2(psf_im)\n",
    "            fwhms[j, i] = res[0]\n",
    "            g1[j, i] = res[1]\n",
    "            g2[j, i] = res[2]\n",
    "    return fwhms, g1, g2"
   ]
  },
  {
   "cell_type": "code",
   "execution_count": 4,
   "metadata": {},
   "outputs": [
    {
     "name": "stderr",
     "output_type": "stream",
     "text": [
      "  8%|▊         | 4/50 [00:02<00:34,  1.35it/s]/Users/Matt/miniconda3/envs/anl/lib/python3.6/site-packages/sklearn/gaussian_process/gpr.py:480: ConvergenceWarning: fmin_l_bfgs_b terminated abnormally with the  state: {'grad': array([12.890625  , 10.66376495]), 'task': b'ABNORMAL_TERMINATION_IN_LNSRCH', 'funcalls': 73, 'nit': 6, 'warnflag': 2}\n",
      "  ConvergenceWarning)\n",
      "100%|██████████| 50/50 [00:32<00:00,  1.55it/s]\n"
     ]
    }
   ],
   "source": [
    "from mdetsims.real_psf import RealPSF\n",
    "\n",
    "d = RealPSF('test_seed10_n1e8_lhs512.fits')"
   ]
  },
  {
   "cell_type": "code",
   "execution_count": 5,
   "metadata": {},
   "outputs": [
    {
     "name": "stderr",
     "output_type": "stream",
     "text": [
      "100%|██████████| 225/225 [07:23<00:00,  2.56s/it]\n"
     ]
    }
   ],
   "source": [
    "def _make_pca_image(_x, _y):\n",
    "    return d.getPSF(galsim.PositionD(x=_x, y=_y)).image.array\n",
    "\n",
    "ims = np.zeros((225, 225, 17, 17))\n",
    "for y in tqdm.trange(0, 225):\n",
    "    for x in range(0, 225):\n",
    "        ims[y, x] = _make_pca_image(x, y)"
   ]
  },
  {
   "cell_type": "code",
   "execution_count": 6,
   "metadata": {},
   "outputs": [
    {
     "name": "stderr",
     "output_type": "stream",
     "text": [
      "100%|██████████| 225/225 [00:23<00:00, 10.49it/s]\n"
     ]
    }
   ],
   "source": [
    "fwhms, g1, g2 = _measure_atm(ims, 0.263)"
   ]
  },
  {
   "cell_type": "code",
   "execution_count": 7,
   "metadata": {},
   "outputs": [],
   "source": [
    "from matplotlib.ticker import AutoMinorLocator\n",
    "\n",
    "def plot_psf_model(fwhms, g1, g2, im_width, fig):\n",
    "    \"\"\"Plot a PSF model.\n",
    "\n",
    "    Parameters\n",
    "    ----------\n",
    "    fwhms : np.ndarray, shape (im_width, im_width)\n",
    "        A grid of the FWHM of the PSF model.\n",
    "    g1 : np.ndarray, shape (im_width, im_width)\n",
    "        The 1-component of the shape of the PSF.\n",
    "    g2 : np.ndarray, shape (im_width, im_width)\n",
    "        The 2-component of the shape of the PSF.\n",
    "    im_width : int\n",
    "        The width of the image in pixels.\n",
    "    fig : matplotlib figure instance\n",
    "        A figure to plot on.\n",
    "\n",
    "    Examples\n",
    "    --------\n",
    "    >>> import matplotlib.pyplot as plt\n",
    "    >>> import seaborn as sns\n",
    "    >>> sns.set()\n",
    "    >>> fig, axs = plt.subplots(nrows=2, ncols=2, figsize=(16, 16))\n",
    "    >>> plot_psf_model(fwhm, g1, g2, 225, axs)\n",
    "    \"\"\"\n",
    "    \n",
    "    n = fwhms.shape[0]\n",
    "    xt = []\n",
    "    for i, _x in enumerate(np.linspace(0, im_width, n)):\n",
    "        if i % 25 == 0 or i == 0 or i == n - 1:\n",
    "            xt.append(\"%0.0f\" % _x)\n",
    "        else:\n",
    "            xt.append('')\n",
    "\n",
    "    kwargs = {\n",
    "        'xticklabels': xt,\n",
    "        'yticklabels': xt\n",
    "    }\n",
    "\n",
    "    ax = fig.add_subplot(2, 2, 1)\n",
    "    sns.heatmap(\n",
    "        fwhms, \n",
    "        square=True, \n",
    "        ax=ax,\n",
    "        cbar_kws={'label': 'FWHM [arcsec]'},\n",
    "        rasterized=True,\n",
    "        **kwargs)\n",
    "    ax.set_xlabel('column')\n",
    "    ax.set_ylabel('row')\n",
    "\n",
    "    whisker_kws = {\n",
    "        'xtick.top': True,\n",
    "        'xtick.direction': 'in',\n",
    "        'ytick.right': True,\n",
    "        'ytick.direction': 'in'}\n",
    "    with sns.axes_style(\"ticks\", whisker_kws):\n",
    "        ax = fig.add_subplot(2, 2, 2)\n",
    "\n",
    "        nmod = 10\n",
    "        g = np.sqrt(g1**2 + g2**2)\n",
    "        g /= np.mean(g)\n",
    "        loc = np.linspace(0, im_width, n)\n",
    "        beta = np.arctan2(g2, g1)/2\n",
    "        ax.quiver(\n",
    "            loc[::nmod],\n",
    "            loc[::nmod],\n",
    "            (g * np.cos(beta))[::nmod, ::nmod],\n",
    "            (g * np.sin(beta))[::nmod, ::nmod],\n",
    "            scale_units='xy',\n",
    "            scale=0.075,\n",
    "            headwidth=0,\n",
    "            pivot='mid')\n",
    "        ax.set_xlabel('column')\n",
    "        ax.set_ylabel('row')\n",
    "        ax.xaxis.set_minor_locator(AutoMinorLocator())\n",
    "        ax.tick_params(axis='x', which='minor')\n",
    "        ax.yaxis.set_minor_locator(AutoMinorLocator())\n",
    "        ax.tick_params(axis='y', which='minor')\n",
    "\n",
    "    ax = fig.add_subplot(2, 2, 3)\n",
    "    sns.heatmap(\n",
    "        g1/1e-2, square=True, ax=ax, \n",
    "        cbar_kws={'label': '$10^{2}g_{1}$'},\n",
    "        rasterized=True,\n",
    "        **kwargs)\n",
    "    ax.set_xlabel('column')\n",
    "    ax.set_ylabel('row')\n",
    "\n",
    "    ax = fig.add_subplot(2, 2, 4)\n",
    "    sns.heatmap(\n",
    "        g2/1e-2, square=True, ax=ax, \n",
    "        cbar_kws={'label': '$10^{2}g_{2}$'},\n",
    "        rasterized=True,\n",
    "        **kwargs)\n",
    "    ax.set_xlabel('column')\n",
    "    ax.set_ylabel('row')"
   ]
  },
  {
   "cell_type": "code",
   "execution_count": null,
   "metadata": {},
   "outputs": [],
   "source": [
    "matplotlib.rc('text', usetex=False)\n",
    "sns.set()\n",
    "sns.set_context(\"notebook\")\n",
    "\n",
    "fig = plt.figure(figsize=(12, 12))\n",
    "plot_psf_model(fwhms, g1, g2, 225, fig)\n",
    "plt.subplots_adjust(wspace=0.25, hspace=0.1)\n",
    "plt.savefig('pspsf.png', bbox_inches='tight', pad_inches=0.1, dpi=600)\n",
    "\n",
    "print(fwhms.max()/fwhms.min(), g1.max() - g1.min(), g2.max() - g2.min())\n",
    "\n",
    "sns.reset_orig()"
   ]
  },
  {
   "cell_type": "code",
   "execution_count": 11,
   "metadata": {},
   "outputs": [],
   "source": [
    "import treecorr\n",
    "\n",
    "y, x = np.mgrid[:225, :225] * 0.263\n",
    "cat = treecorr.Catalog(\n",
    "    x=y.ravel(), y=x.ravel(), g1=g1.ravel(), g2=g2.ravel(),\n",
    "    x_units='arcsec', y_units='arcsec')\n",
    "\n",
    "gg = treecorr.GGCorrelation(\n",
    "    nbins=50, min_sep=1, max_sep=60, bin_slop=0.1,\n",
    "    sep_units='arcsec')\n",
    "\n",
    "gg.process_auto(cat)\n",
    "gg.finalize(np.std(g1)**2, np.std(g2)**2)\n",
    "\n",
    "import pandas as pd\n",
    "df = pd.DataFrame({'r': gg.rnom, 'xip': gg.xip, 'xim': gg.xim})"
   ]
  },
  {
   "cell_type": "code",
   "execution_count": 13,
   "metadata": {},
   "outputs": [
    {
     "data": {
      "image/png": "[encoded data removed]",
      "text/plain": [
       "<Figure size 400x400 with 1 Axes>"
      ]
     },
     "metadata": {},
     "output_type": "display_data"
    }
   ],
   "source": [
    "import matplotlib\n",
    "\n",
    "matplotlib.rc('text', usetex=True)\n",
    "\n",
    "fig = plt.figure(figsize=(4, 4))\n",
    "\n",
    "ax = fig.add_subplot(1, 1, 1)\n",
    "\n",
    "msk = (df['xip'] != 0) & (df['xim'] != 0)\n",
    "\n",
    "ax.loglog(df['r'][msk], np.abs(df['xip'][msk]), label=r'$\\xi_{+}$', color='k')\n",
    "ax.loglog(df['r'][msk], np.abs(df['xim'][msk]), label=r'$\\xi_{-}$', linestyle='dashed', color='k')\n",
    "\n",
    "ax.set_xlabel(r'$\\mathrm{r\\ [arcsec]}$')\n",
    "ax.set_ylabel(r'$|\\xi_{\\pm}|$')\n",
    "\n",
    "ax.tick_params(axis='both', direction='in', which='both', right=True, top=True)\n",
    "\n",
    "ax.legend(frameon=False)\n",
    "\n",
    "plt.savefig('psxi.png', bbox_inches='tight', pad_inches=0.1, dpi=600)"
   ]
  },
  {
   "cell_type": "code",
   "execution_count": null,
   "metadata": {},
   "outputs": [],
   "source": []
  },
  {
   "cell_type": "code",
   "execution_count": null,
   "metadata": {},
   "outputs": [],
   "source": []
  },
  {
   "cell_type": "code",
   "execution_count": null,
   "metadata": {},
   "outputs": [],
   "source": []
  },
  {
   "cell_type": "code",
   "execution_count": null,
   "metadata": {},
   "outputs": [],
   "source": []
  }
 ],
 "metadata": {
  "kernelspec": {
   "display_name": "Python 3",
   "language": "python",
   "name": "python3"
  },
  "language_info": {
   "codemirror_mode": {
    "name": "ipython",
    "version": 3
   },
   "file_extension": ".py",
   "mimetype": "text/x-python",
   "name": "python",
   "nbconvert_exporter": "python",
   "pygments_lexer": "ipython3",
   "version": "3.6.7"
  }
 },
 "nbformat": 4,
 "nbformat_minor": 2
}
