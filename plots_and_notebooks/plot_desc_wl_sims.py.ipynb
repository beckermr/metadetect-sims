{
 "cells": [
  {
   "cell_type": "code",
   "execution_count": 1,
   "metadata": {},
   "outputs": [],
   "source": [
    "import numpy as np\n",
    "import matplotlib.pyplot as plt\n",
    "import seaborn as sns\n",
    "\n",
    "%load_ext autoreload\n",
    "\n",
    "%autoreload 2\n",
    "\n",
    "%matplotlib notebook\n",
    "sns.set()"
   ]
  },
  {
   "cell_type": "code",
   "execution_count": 4,
   "metadata": {},
   "outputs": [],
   "source": [
    "import galsim\n",
    "import descwl"
   ]
  },
  {
   "cell_type": "code",
   "execution_count": 36,
   "metadata": {},
   "outputs": [],
   "source": [
    "pars = descwl.survey.Survey.get_defaults(\n",
    "    survey_name='DES',\n",
    "    filter_band='i')"
   ]
  },
  {
   "cell_type": "code",
   "execution_count": 37,
   "metadata": {},
   "outputs": [
    {
     "data": {
      "text/plain": [
       "{'atmospheric_psf_beta': 0.0,\n",
       " 'atmospheric_psf_e1': 0.0,\n",
       " 'atmospheric_psf_e2': 0.0,\n",
       " 'cosmic_shear_g1': 0.0,\n",
       " 'cosmic_shear_g2': 0.0,\n",
       " 'airmass': 1.0,\n",
       " 'mirror_diameter': 3.934,\n",
       " 'effective_area': 10.014,\n",
       " 'image_width': 3115,\n",
       " 'image_height': 3115,\n",
       " 'pixel_scale': 0.263,\n",
       " 'exposure_time': 1000.0,\n",
       " 'sky_brightness': 20.5,\n",
       " 'zenith_psf_fwhm': 0.96,\n",
       " 'zero_point': 13.94,\n",
       " 'extinction': 0.05,\n",
       " 'survey_name': 'DES',\n",
       " 'filter_band': 'i',\n",
       " 'psf_model': galsim.Gaussian(sigma=0.3821948101296086, flux=1.0, gsparams=galsim.GSParams(128,8192,0.005,5.0,0.001,1e-05,1e-05,1,0.0001,1e-06,1e-06,1e-08,1e-05))}"
      ]
     },
     "execution_count": 37,
     "metadata": {},
     "output_type": "execute_result"
    }
   ],
   "source": [
    "pars"
   ]
  },
  {
   "cell_type": "code",
   "execution_count": 38,
   "metadata": {},
   "outputs": [],
   "source": [
    "pars['survey_name'] = 'DES'\n",
    "pars['filter_band'] = 'i'\n",
    "pars['image_width'] = 225\n",
    "pars['image_height'] = 225\n",
    "pars['psf_model'] = galsim.Gaussian(fwhm=0.9)\n",
    "pars['exposure_time'] = 90"
   ]
  },
  {
   "cell_type": "code",
   "execution_count": 39,
   "metadata": {},
   "outputs": [],
   "source": [
    "survey = descwl.survey.Survey(**pars)"
   ]
  },
  {
   "cell_type": "code",
   "execution_count": 40,
   "metadata": {},
   "outputs": [],
   "source": [
    "builder = descwl.model.GalaxyBuilder(\n",
    "    survey=survey,\n",
    "    no_disk=False,\n",
    "    no_bulge=False,\n",
    "    no_agn=False,\n",
    "    verbose_model=False)"
   ]
  },
  {
   "cell_type": "code",
   "execution_count": 41,
   "metadata": {},
   "outputs": [],
   "source": [
    "import fitsio\n",
    "rng = np.random.RandomState(seed=10)\n",
    "\n",
    "cat = fitsio.read('/Users/Matt/Desktop/OneDegSq.fits')\n",
    "cat['pa_disk'] = rng.uniform(low=0.0, high=360.0, size=cat.size)\n",
    "cat['pa_bulge'] = cat['pa_disk']\n",
    "cat_indices = np.arange(cat.size)"
   ]
  },
  {
   "cell_type": "code",
   "execution_count": 49,
   "metadata": {},
   "outputs": [
    {
     "name": "stdout",
     "output_type": "stream",
     "text": [
      "26.9435119629\n"
     ]
    },
    {
     "data": {
      "text/plain": [
       "<matplotlib.axes._subplots.AxesSubplot at 0x13120fa90>"
      ]
     },
     "execution_count": 49,
     "metadata": {},
     "output_type": "execute_result"
    },
    {
     "data": {
      "image/png": "[encoded data removed]",
      "text/plain": [
       "<Figure size 432x288 with 2 Axes>"
      ]
     },
     "metadata": {
      "needs_background": "light"
     },
     "output_type": "display_data"
    }
   ],
   "source": [
    "gal = builder.from_catalog(cat[4315], 0, 0, survey.filter_band)\n",
    "\n",
    "print(gal.ab_magnitude)\n",
    "\n",
    "img = galsim.Convolve(gal.model, pars['psf_model']).drawImage(scale=0.263)\n",
    "\n",
    "implot = img.array + rng.normal(size=img.array.shape) * np.sqrt(survey.mean_sky_level) / np.sqrt(30)\n",
    "\n",
    "plt.figure()\n",
    "sns.heatmap(implot, square=True)"
   ]
  },
  {
   "cell_type": "code",
   "execution_count": 46,
   "metadata": {},
   "outputs": [
    {
     "data": {
      "text/plain": [
       "47.011963477856085"
      ]
     },
     "execution_count": 46,
     "metadata": {},
     "output_type": "execute_result"
    }
   ],
   "source": [
    "np.sqrt(survey.mean_sky_level)"
   ]
  },
  {
   "cell_type": "code",
   "execution_count": null,
   "metadata": {},
   "outputs": [],
   "source": []
  }
 ],
 "metadata": {
  "kernelspec": {
   "display_name": "Python 3",
   "language": "python",
   "name": "python3"
  },
  "language_info": {
   "codemirror_mode": {
    "name": "ipython",
    "version": 3
   },
   "file_extension": ".py",
   "mimetype": "text/x-python",
   "name": "python",
   "nbconvert_exporter": "python",
   "pygments_lexer": "ipython3",
   "version": "3.6.7"
  }
 },
 "nbformat": 4,
 "nbformat_minor": 2
}
