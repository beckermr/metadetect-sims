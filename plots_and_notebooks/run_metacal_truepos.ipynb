{
 "cells": [
  {
   "cell_type": "code",
   "execution_count": 1,
   "metadata": {},
   "outputs": [],
   "source": [
    "import numpy as np\n",
    "import matplotlib.pyplot as plt\n",
    "import seaborn as sns\n",
    "\n",
    "%load_ext autoreload\n",
    "%autoreload 2\n",
    "\n",
    "%matplotlib notebook\n",
    "sns.set()"
   ]
  },
  {
   "cell_type": "markdown",
   "metadata": {},
   "source": [
    "## Time it all"
   ]
  },
  {
   "cell_type": "code",
   "execution_count": 2,
   "metadata": {},
   "outputs": [],
   "source": [
    "import galsim\n",
    "from mdetsims import Sim\n",
    "from mdetsims.metacal import MetacalTrueDetect, METACAL_TYPES\n",
    "from mdetsims.defaults import TEST_METACAL_TRUEDETECT_CONFIG"
   ]
  },
  {
   "cell_type": "code",
   "execution_count": 22,
   "metadata": {},
   "outputs": [
    {
     "name": "stdout",
     "output_type": "stream",
     "text": [
      "     singular covariance\n",
      "    pars at singular: -6.71e-10   3.6e-09  9.26e-08  -5.47e-08     0.304    0.0692 \n",
      "     singular covariance\n",
      "    pars at singular: -1.64e-09  -1.56e-08  2.46e-07  -2.76e-07     0.304    0.0692 \n"
     ]
    }
   ],
   "source": [
    "# %%time\n",
    "\n",
    "for i in range(2):\n",
    "    rng = np.random.RandomState(seed=100)\n",
    "    des_sim = Sim(\n",
    "        rng=rng,\n",
    "        g1=0.02 - i*0.04,\n",
    "        gal_type='exp',\n",
    "        scale=0.263,\n",
    "        psf_type='gauss',\n",
    "        n_coadd=30,\n",
    "        n_coadd_psf=1,\n",
    "        gal_grid=7)\n",
    "\n",
    "    mbobs, tcat = des_sim.get_mbobs(return_truth_cat=True)\n",
    "    mm = MetacalTrueDetect(TEST_METACAL_TRUEDETECT_CONFIG, mbobs, rng, tcat)\n",
    "    mm.go()"
   ]
  },
  {
   "cell_type": "markdown",
   "metadata": {},
   "source": [
    "## Look at the Parts"
   ]
  },
  {
   "cell_type": "code",
   "execution_count": 23,
   "metadata": {},
   "outputs": [],
   "source": [
    "import galsim\n",
    "from mdetsims import Sim"
   ]
  },
  {
   "cell_type": "code",
   "execution_count": 24,
   "metadata": {},
   "outputs": [],
   "source": [
    "des_sim = Sim(\n",
    "    rng=np.random.RandomState(seed=100),\n",
    "    g1=0.02,\n",
    "    gal_type='exp',\n",
    "    scale=0.263,\n",
    "    psf_type='gauss',\n",
    "    n_coadd=30,\n",
    "    n_coadd_psf=1,\n",
    "    gal_grid=7,\n",
    "    gal_kws={'survey_name': 'DES'})"
   ]
  },
  {
   "cell_type": "code",
   "execution_count": 27,
   "metadata": {},
   "outputs": [
    {
     "name": "stdout",
     "output_type": "stream",
     "text": [
      "CPU times: user 193 ms, sys: 13.1 ms, total: 206 ms\n",
      "Wall time: 209 ms\n"
     ]
    }
   ],
   "source": [
    "%%time\n",
    "\n",
    "mbobs, tcat = des_sim.get_mbobs(return_truth_cat=True)"
   ]
  },
  {
   "cell_type": "code",
   "execution_count": 74,
   "metadata": {},
   "outputs": [
    {
     "data": {
      "text/plain": [
       "<matplotlib.axes._subplots.AxesSubplot at 0x11a3d8160>"
      ]
     },
     "execution_count": 74,
     "metadata": {},
     "output_type": "execute_result"
    },
    {
     "data": {
      "image/png": "[encoded data removed]",
      "text/plain": [
       "<Figure size 720x720 with 2 Axes>"
      ]
     },
     "metadata": {
      "needs_background": "light"
     },
     "output_type": "display_data"
    }
   ],
   "source": [
    "plt.figure(figsize=(10, 10))\n",
    "sns.heatmap(mbobs[0][0].image)"
   ]
  },
  {
   "cell_type": "markdown",
   "metadata": {},
   "source": [
    "## Run it all at once"
   ]
  },
  {
   "cell_type": "code",
   "execution_count": 29,
   "metadata": {
    "scrolled": false
   },
   "outputs": [
    {
     "name": "stdout",
     "output_type": "stream",
     "text": [
      "     singular covariance\n",
      "    pars at singular: -1.91e-07  1.24e-09  1.19e-08  1.43e-07     0.304    0.0692 \n",
      "     singular covariance\n",
      "    pars at singular: 5.12e-07   5.6e-10  -3.65e-08  1.99e-07     0.304    0.0692 \n",
      "     singular covariance\n",
      "    pars at singular: 2.12e-09  1.44e-07  3.88e-08  4.98e-07     0.304    0.0692 \n",
      "CPU times: user 7.66 s, sys: 1.43 s, total: 9.09 s\n",
      "Wall time: 9.23 s\n"
     ]
    }
   ],
   "source": [
    "%%time\n",
    "rng = np.random.RandomState(seed=100)\n",
    "\n",
    "mbobs, tcat = des_sim.get_mbobs(return_truth_cat=True)\n",
    "mm = MetacalTrueDetect(TEST_METACAL_TRUEDETECT_CONFIG, mbobs, rng, tcat)\n",
    "mm.go()"
   ]
  },
  {
   "cell_type": "code",
   "execution_count": 30,
   "metadata": {},
   "outputs": [],
   "source": [
    "res = mm.result"
   ]
  },
  {
   "cell_type": "code",
   "execution_count": 34,
   "metadata": {},
   "outputs": [],
   "source": [
    "def _mask(cat, s2n_cut, size_cut):\n",
    "    return (cat['mcal_s2n'] > s2n_cut) & (cat['mcal_T_ratio'] > size_cut)\n",
    "\n",
    "msks = {}\n",
    "for sh in METACAL_TYPES:\n",
    "    msks[sh] = _mask(res[sh], 10, 0.5)"
   ]
  },
  {
   "cell_type": "code",
   "execution_count": 35,
   "metadata": {},
   "outputs": [],
   "source": [
    "g1_1p = np.mean(res['1p']['mcal_g'][msks['noshear'], 0])\n",
    "g1_1m = np.mean(res['1m']['mcal_g'][msks['noshear'], 0])\n",
    "R11 = (g1_1p - g1_1m) / 2 / 0.01\n",
    "\n",
    "g2_2p = np.mean(res['2p']['mcal_g'][msks['noshear'], 1])\n",
    "g2_2m = np.mean(res['2m']['mcal_g'][msks['noshear'], 1])\n",
    "R22 = (g2_2p - g2_2m) / 2 / 0.01\n",
    "\n",
    "g1_1p = np.mean(res['noshear']['mcal_g'][msks['1p'], 0])\n",
    "g1_1m = np.mean(res['noshear']['mcal_g'][msks['1m'], 0])\n",
    "R11_sel = (g1_1p - g1_1m) / 2 / 0.01\n",
    "\n",
    "g2_2p = np.mean(res['noshear']['mcal_g'][msks['2p'], 1])\n",
    "g2_2m = np.mean(res['noshear']['mcal_g'][msks['2m'], 1])\n",
    "R22_sel = (g2_2p - g2_2m) / 2 / 0.01\n",
    "\n",
    "R11 += R11_sel\n",
    "R22 += R22_sel"
   ]
  },
  {
   "cell_type": "code",
   "execution_count": 36,
   "metadata": {},
   "outputs": [
    {
     "data": {
      "text/plain": [
       "(0.8908261620550594, 0.8965147130689336)"
      ]
     },
     "execution_count": 36,
     "metadata": {},
     "output_type": "execute_result"
    }
   ],
   "source": [
    "R11, R22"
   ]
  },
  {
   "cell_type": "code",
   "execution_count": 37,
   "metadata": {},
   "outputs": [
    {
     "data": {
      "text/plain": [
       "(0.8908261620550594, 0.8965147130689336)"
      ]
     },
     "execution_count": 37,
     "metadata": {},
     "output_type": "execute_result"
    }
   ],
   "source": [
    "g1_1p = np.mean(res['1p']['mcal_g'][msks['1p'], 0])\n",
    "g1_1m = np.mean(res['1m']['mcal_g'][msks['1m'], 0])\n",
    "R11 = (g1_1p - g1_1m) / 2 / 0.01\n",
    "\n",
    "g2_2p = np.mean(res['2p']['mcal_g'][msks['2p'], 1])\n",
    "g2_2m = np.mean(res['2m']['mcal_g'][msks['2m'], 1])\n",
    "R22 = (g2_2p - g2_2m) / 2 / 0.01\n",
    "\n",
    "R11, R22"
   ]
  },
  {
   "cell_type": "markdown",
   "metadata": {},
   "source": [
    "## Run Detection"
   ]
  },
  {
   "cell_type": "code",
   "execution_count": 66,
   "metadata": {},
   "outputs": [],
   "source": [
    "from mdetsims.metacal import TruthMEDSifier\n",
    "\n",
    "tmbobs, tcat = des_sim.get_mbobs(return_truth_cat=True)\n",
    "mfier = TruthMEDSifier(\n",
    "    mbobs=tmbobs,\n",
    "    meds_config=TEST_METACAL_TRUEDETECT_CONFIG['meds'],\n",
    "    truth_cat=tcat)"
   ]
  },
  {
   "cell_type": "code",
   "execution_count": 67,
   "metadata": {},
   "outputs": [],
   "source": [
    "mbmeds = mfier.get_multiband_meds()"
   ]
  },
  {
   "cell_type": "code",
   "execution_count": 73,
   "metadata": {},
   "outputs": [
    {
     "data": {
      "image/png": "[encoded data removed]",
      "text/plain": [
       "<Figure size 432x288 with 1 Axes>"
      ]
     },
     "metadata": {
      "needs_background": "light"
     },
     "output_type": "display_data"
    }
   ],
   "source": [
    "mbobs = mbmeds.get_mbobs(3)\n",
    "\n",
    "plt.figure()\n",
    "plt.imshow(np.arcsinh(mbobs[0][0].noise))\n",
    "plt.gca().grid(False)"
   ]
  },
  {
   "cell_type": "code",
   "execution_count": null,
   "metadata": {},
   "outputs": [],
   "source": []
  }
 ],
 "metadata": {
  "kernelspec": {
   "display_name": "Python 3",
   "language": "python",
   "name": "python3"
  },
  "language_info": {
   "codemirror_mode": {
    "name": "ipython",
    "version": 3
   },
   "file_extension": ".py",
   "mimetype": "text/x-python",
   "name": "python",
   "nbconvert_exporter": "python",
   "pygments_lexer": "ipython3",
   "version": "3.6.7"
  }
 },
 "nbformat": 4,
 "nbformat_minor": 2
}
