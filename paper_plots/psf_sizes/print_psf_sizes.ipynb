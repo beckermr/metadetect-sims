{
 "cells": [
  {
   "cell_type": "code",
   "execution_count": 1,
   "metadata": {},
   "outputs": [],
   "source": [
    "import numpy as np\n",
    "import matplotlib.pyplot as plt\n",
    "import seaborn as sns\n",
    "\n",
    "%load_ext autoreload\n",
    "\n",
    "%autoreload 2\n",
    "\n",
    "%matplotlib notebook\n",
    "sns.set()"
   ]
  },
  {
   "cell_type": "code",
   "execution_count": 2,
   "metadata": {},
   "outputs": [],
   "source": [
    "from mdetsims import Sim"
   ]
  },
  {
   "cell_type": "code",
   "execution_count": 5,
   "metadata": {},
   "outputs": [
    {
     "name": "stdout",
     "output_type": "stream",
     "text": [
      "CPU times: user 669 ms, sys: 82.5 ms, total: 752 ms\n",
      "Wall time: 773 ms\n"
     ]
    }
   ],
   "source": [
    "%%time\n",
    "\n",
    "DES_CONFIG = {\n",
    "    'gal_type': 'wldeblend',\n",
    "    'psf_type': 'wldeblend',\n",
    "    'shear_scene': True,\n",
    "    'n_coadd': 10,\n",
    "    'dim': 500,\n",
    "    'scale': 0.263,\n",
    "    'n_coadd_psf': 1,\n",
    "    'gal_kws': {\n",
    "        'survey_name': 'DES',\n",
    "        'bands': ('r', 'i', 'z',)},    \n",
    "}\n",
    "\n",
    "des_sim = Sim(\n",
    "    rng=np.random.RandomState(seed=5789),\n",
    "    **DES_CONFIG,\n",
    "    g1=0.0)"
   ]
  },
  {
   "cell_type": "code",
   "execution_count": 10,
   "metadata": {},
   "outputs": [
    {
     "name": "stdout",
     "output_type": "stream",
     "text": [
      "CPU times: user 567 ms, sys: 56.6 ms, total: 623 ms\n",
      "Wall time: 629 ms\n"
     ]
    }
   ],
   "source": [
    "%%time\n",
    "\n",
    "LSST_CONFIG = {\n",
    "    'gal_type': 'wldeblend',\n",
    "    'psf_type': 'wldeblend',\n",
    "    'shear_scene': True,\n",
    "    'scale': 0.2,\n",
    "    'dim': 658,\n",
    "    'n_coadd_psf': 1,\n",
    "    'gal_kws': {\n",
    "        'survey_name': 'LSST',\n",
    "        'bands': ('r', 'i', 'z',)},\n",
    "}\n",
    "\n",
    "lsst_sim = Sim(\n",
    "    rng=np.random.RandomState(seed=9756),\n",
    "    **LSST_CONFIG,\n",
    "    g1=0.0)"
   ]
  },
  {
   "cell_type": "code",
   "execution_count": 16,
   "metadata": {},
   "outputs": [
    {
     "name": "stdout",
     "output_type": "stream",
     "text": [
      "DES\n",
      "band|fwhm: r 1.1612724654219595\n",
      "band|fwhm: i 1.1612724654219595\n",
      "band|fwhm: z 1.0868253289229481\n",
      " \n",
      "LSST\n",
      "band|fwhm: r 0.791273479608208\n",
      "band|fwhm: i 0.791273479608208\n",
      "band|fwhm: z 0.7648330048095268\n"
     ]
    }
   ],
   "source": [
    "print('DES')\n",
    "for i, band in enumerate(['r', 'i', 'z']):\n",
    "    psf_im = des_sim._surveys[i].psf_model.drawImage(nx=53, ny=53, scale=0.263, method='no_pixel')\n",
    "    print('band|fwhm:', band, psf_im.calculateFWHM())\n",
    "print(' ')\n",
    "print('LSST')\n",
    "for i, band in enumerate(['r', 'i', 'z']):\n",
    "    psf_im = lsst_sim._surveys[i].psf_model.drawImage(nx=53, ny=53, scale=0.2, method='no_pixel')\n",
    "    print('band|fwhm:', band, psf_im.calculateFWHM())"
   ]
  },
  {
   "cell_type": "code",
   "execution_count": null,
   "metadata": {},
   "outputs": [],
   "source": []
  }
 ],
 "metadata": {
  "kernelspec": {
   "display_name": "Python 3",
   "language": "python",
   "name": "python3"
  },
  "language_info": {
   "codemirror_mode": {
    "name": "ipython",
    "version": 3
   },
   "file_extension": ".py",
   "mimetype": "text/x-python",
   "name": "python",
   "nbconvert_exporter": "python",
   "pygments_lexer": "ipython3",
   "version": "3.7.3"
  }
 },
 "nbformat": 4,
 "nbformat_minor": 2
}
